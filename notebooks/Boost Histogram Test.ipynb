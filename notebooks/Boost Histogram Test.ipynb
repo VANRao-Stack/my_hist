{
 "cells": [
  {
   "cell_type": "code",
   "execution_count": 7,
   "metadata": {},
   "outputs": [],
   "source": [
    "import boost_histogram as bh\n",
    "import numpy as np\n",
    "import matplotlib.pyplot as plt\n",
    "from boost_histogram import Histogram, axis\n",
    "import boost_histogram.axis as bha"
   ]
  },
  {
   "cell_type": "code",
   "execution_count": 8,
   "metadata": {},
   "outputs": [],
   "source": [
    "class Regular(bha.Regular):\n",
    "    def __init__(self, bins, start, stop, *, name=None, underflow=True, overflow=True,\n",
    "                growth=False, circular=False, transform=None):\n",
    "        metadata = dict(name=name)\n",
    "        super().__init__(bins, start, stop, metadata=metadata, underflow=underflow, \n",
    "                        overflow=overflow, growth=growth, circular=circular, transform=transform)\n",
    "    @property\n",
    "    def name(self):\n",
    "        return self.metadata['name']\n",
    "        \n",
    "    @name.setter\n",
    "    def name(self, value):\n",
    "        self.metadata['name'] = value"
   ]
  },
  {
   "cell_type": "code",
   "execution_count": 9,
   "metadata": {},
   "outputs": [],
   "source": [
    "class Variable(bha.Variable):\n",
    "    def __init__(self, edges, *, name=None, underflow=True, overflow=True, growth=False):\n",
    "        metadata = dict(name=name)\n",
    "        super().__init__(edges, metadata=metadata, underflow=underflow,\n",
    "                         overflow=overflow, growth=growth)\n",
    "    @property\n",
    "    def name(self):\n",
    "        return self.metadata['name']\n",
    "    \n",
    "    @name.setter\n",
    "    def name(self, value):\n",
    "        self.metadata['name'] = value"
   ]
  },
  {
   "cell_type": "code",
   "execution_count": 10,
   "metadata": {},
   "outputs": [],
   "source": [
    "class Integer(bha.Integer):\n",
    "    def __init__(self, start, stop, *, name=None, underflow=True, overflow=True, growth=False):\n",
    "        metadata = dict(name=name)\n",
    "        super().__init__(start, stop, metadata=metadata, underflow=underflow, \n",
    "                         overflow=overflow, growth=growth)\n",
    "    @property\n",
    "    def name(self):\n",
    "        return self.metadata['name']\n",
    "    \n",
    "    @name.setter\n",
    "    def name(self, value):\n",
    "        self.metadata['name'] = value"
   ]
  },
  {
   "cell_type": "code",
   "execution_count": 11,
   "metadata": {},
   "outputs": [],
   "source": [
    "class StrCategory(bha.StrCategory):\n",
    "    def __init__(self, categories, *, name=None, growth=False):\n",
    "        metadata = dict(name=name)\n",
    "        super().__init__(categories, metadata=metadata, growth=growth)\n",
    "    @property\n",
    "    def name(self):\n",
    "        return self.metadata['name']\n",
    "    \n",
    "    @name.setter\n",
    "    def name(self, value):\n",
    "        self.metadata['name'] = value"
   ]
  },
  {
   "cell_type": "code",
   "execution_count": 12,
   "metadata": {},
   "outputs": [],
   "source": [
    "class IntCategory(bha.IntCategory):\n",
    "    def __init__(self, categories, *, name=None, growth=False):\n",
    "        metadata = dict(name=name)\n",
    "        super().__init__(categories, metadata=metadata, growth=growth)\n",
    "    @property\n",
    "    def name(self):\n",
    "        return self.metadata['name']\n",
    "    \n",
    "    @name.setter\n",
    "    def name(self, value):\n",
    "        self.metadata['name'] = value"
   ]
  },
  {
   "cell_type": "code",
   "execution_count": 81,
   "metadata": {},
   "outputs": [],
   "source": [
    "class NamedHist(Histogram):\n",
    "    def fill(self, *args, **kwargs):\n",
    "        if len(args) != 0:\n",
    "            if 'weight' in kwargs:\n",
    "                Histogram.fill(self, *args, kwargs['weight'])\n",
    "            else:\n",
    "                Histogram.fill(self, *args)\n",
    "        else:\n",
    "            temp_list = list()\n",
    "            for value in self.axes:\n",
    "                temp_list.append(kwargs[value.name])\n",
    "            if 'weight' not in kwargs:\n",
    "                kwargs['weight'] = None\n",
    "            Histogram.fill(self, *temp_list, weight=kwargs['weight'])\n",
    "    \n",
    "    def __getitem__(self, index):\n",
    "        if type(index) != dict:\n",
    "            return Histogram.__getitem__(self, index)\n",
    "        else:\n",
    "            if set(map(type, index)) == {int}:\n",
    "                return Histogram.__getitem__(self, index)\n",
    "            else:\n",
    "                temp_list = index.keys()\n",
    "                temp_dict = dict()\n",
    "                for ind, value in enumerate(self.axes):\n",
    "                    if value.name in temp_list:\n",
    "                        temp_dict[ind] = index[value.name]\n",
    "                return Histogram.__getitem__(self, temp_dict)\n",
    "            \n",
    "    def pull_plot(self, callable, *, ax=None, pull_ax=None, style='seaborn-deep', figsize=(6, 8), save_fig=None):\n",
    "        values = pdf(*self.axes.centers)*self.sum()*self.axes[0].widths\n",
    "        yerr = np.sqrt(self.view())\n",
    "        pulls = (self.view() - values) / yerr\n",
    "        if ax is None and pull_ax is None:\n",
    "            fig, (ax, pull_ax) = plt.subplots(2, 1, gridspec_kw={'height_ratios': [3, 1]}, figsize=figsize)\n",
    "        elif ax is None or pull_ax is None:\n",
    "            print('Please enter both the axes or none of them!')\n",
    "            return None, None\n",
    "        ax.errorbar(self.axes[0].centers, values);\n",
    "        ax.scatter(self.axes[0].centers, self.view(), s=self.view(), marker='|');\n",
    "        ax.scatter(self.axes[0].centers, self.view(), s=10, marker='D', color='orange')\n",
    "        ax.set_xlabel('x[units]')\n",
    "        ax.set_ylabel('Counts')\n",
    "        pull_ax.bar(self.axes[0].centers, pulls, width=self.axes[0].widths);\n",
    "        seaborn.despine(ax=pull_ax, offset=10, trim=True)\n",
    "        pull_ax.set_xlabel('x[units]')\n",
    "        pull_ax.set_ylabel('Pulls')\n",
    "        for i in range(1, 4):\n",
    "            pull_ax.axhspan(-i, i, color='b', alpha=0.05)\n",
    "        plt.style.use(style)\n",
    "        fig.tight_layout()\n",
    "        if save_fig is not None:\n",
    "            fig.savefig(save_fig + '.png')\n",
    "        plt.show()\n",
    "        return ax, pull_ax"
   ]
  },
  {
   "cell_type": "code",
   "execution_count": 63,
   "metadata": {},
   "outputs": [],
   "source": [
    "class Bool(Integer):\n",
    "    def __init__(self, name=None):\n",
    "        super().__init__(0, 2, name=name, overflow=False)"
   ]
  },
  {
   "cell_type": "code",
   "execution_count": 52,
   "metadata": {},
   "outputs": [],
   "source": [
    "# Data generation\n",
    "\n",
    "import numpy as np\n",
    "\n",
    "# Random numbers from -1 to 1\n",
    "x,y = np.random.random_sample([2, 1_000_000])*2 - 1\n",
    "\n",
    "# Only hits inside radius 1 are \"valid\"\n",
    "valid = (x**2 + y**2) < 1"
   ]
  },
  {
   "cell_type": "code",
   "execution_count": 53,
   "metadata": {},
   "outputs": [],
   "source": [
    "h = NamedHist(\n",
    "    Regular(10, -1, 1, name=\"x\"),\n",
    "    Regular(10, -1, 1, name=\"y\"),\n",
    "    Bool(name=\"valid\"),\n",
    ")\n",
    "\n",
    "h.fill(x=x, y=y, valid=valid)\n",
    "\n",
    "valid_and_invalid = h[{'valid': slice(None, None, bh.sum)}]"
   ]
  },
  {
   "cell_type": "code",
   "execution_count": 54,
   "metadata": {},
   "outputs": [
    {
     "data": {
      "text/plain": [
       "NamedHist(\n",
       "  Regular(10, -1, 1, metadata={'name': 'x'}),\n",
       "  Regular(10, -1, 1, metadata={'name': 'y'}),\n",
       "  storage=Double()) # Sum: 1000000.0"
      ]
     },
     "execution_count": 54,
     "metadata": {},
     "output_type": "execute_result"
    }
   ],
   "source": [
    "valid_and_invalid"
   ]
  },
  {
   "cell_type": "code",
   "execution_count": 36,
   "metadata": {},
   "outputs": [],
   "source": [
    "h = NamedHist(axis.Regular(10, 0, 1))\n",
    "h.fill([0.35, 0.35, 0.45])\n",
    "assert h[2] == 0\n",
    "assert h[3] == 2\n",
    "assert h[4] == 1\n",
    "assert h[5] == 0"
   ]
  },
  {
   "cell_type": "code",
   "execution_count": 39,
   "metadata": {},
   "outputs": [],
   "source": [
    "h = NamedHist(Regular(10, 0, 1, name=\"x\"))  # NamedHist should require axis.Regular to have a name set\n",
    "h.fill([0.35, 0.35, 0.45])  # Fill should be keyword only, with the names\n",
    "# Optional if you want these to fail\n",
    "assert h[2] == 0\n",
    "assert h[3] == 2\n",
    "assert h[4] == 1\n",
    "assert h[5] == 0\n",
    "\n",
    "# Example of a test that should be made to pass:\n",
    "assert h[{'x':2}] == 0 # Should work\n",
    "assert h[{'x':3}] == 2 # Should work\n",
    "assert h[{'x':4}] == 1 # Should work\n",
    "assert h[{'x':5}] == 0 # Should work"
   ]
  },
  {
   "cell_type": "code",
   "execution_count": 40,
   "metadata": {},
   "outputs": [],
   "source": [
    "#Note that in the above example both the referencing methods work"
   ]
  },
  {
   "cell_type": "code",
   "execution_count": 82,
   "metadata": {},
   "outputs": [],
   "source": [
    "data = np.random.normal(size=10_000)\n",
    "h = NamedHist(Regular(50, -3, 3))\n",
    "h.fill(data)\n",
    "\n",
    "def pdf(x):\n",
    "    return 1/np.sqrt(2*np.pi) * np.exp(-.5*x**2)"
   ]
  },
  {
   "cell_type": "code",
   "execution_count": 83,
   "metadata": {},
   "outputs": [
    {
     "data": {
      "image/png": "[encoded data removed]",
      "text/plain": [
       "<Figure size 432x576 with 2 Axes>"
      ]
     },
     "metadata": {
      "needs_background": "light"
     },
     "output_type": "display_data"
    }
   ],
   "source": [
    "ax, pull_ax = h.pull_plot(pdf, save_fig='y')"
   ]
  },
  {
   "cell_type": "code",
   "execution_count": null,
   "metadata": {},
   "outputs": [],
   "source": []
  }
 ],
 "metadata": {
  "kernelspec": {
   "display_name": "Python 3",
   "language": "python",
   "name": "python3"
  },
  "language_info": {
   "codemirror_mode": {
    "name": "ipython",
    "version": 3
   },
   "file_extension": ".py",
   "mimetype": "text/x-python",
   "name": "python",
   "nbconvert_exporter": "python",
   "pygments_lexer": "ipython3",
   "version": "3.7.3"
  }
 },
 "nbformat": 4,
 "nbformat_minor": 4
}
